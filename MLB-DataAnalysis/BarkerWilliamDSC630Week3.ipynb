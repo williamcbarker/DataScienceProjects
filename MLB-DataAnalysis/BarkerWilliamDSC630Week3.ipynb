{
 "cells": [
  {
   "cell_type": "code",
   "execution_count": 1,
   "id": "7139bb53",
   "metadata": {},
   "outputs": [],
   "source": [
    "# William Barker\n",
    "# DSC630\n",
    "# Week 3\n",
    "\n",
    "import pandas as pd\n",
    "import numpy as np\n",
    "import matplotlib.pyplot as plt"
   ]
  },
  {
   "cell_type": "code",
   "execution_count": 2,
   "id": "d73c0149",
   "metadata": {},
   "outputs": [
    {
     "data": {
      "text/html": [
       "<div>\n",
       "<style scoped>\n",
       "    .dataframe tbody tr th:only-of-type {\n",
       "        vertical-align: middle;\n",
       "    }\n",
       "\n",
       "    .dataframe tbody tr th {\n",
       "        vertical-align: top;\n",
       "    }\n",
       "\n",
       "    .dataframe thead th {\n",
       "        text-align: right;\n",
       "    }\n",
       "</style>\n",
       "<table border=\"1\" class=\"dataframe\">\n",
       "  <thead>\n",
       "    <tr style=\"text-align: right;\">\n",
       "      <th></th>\n",
       "      <th>month</th>\n",
       "      <th>day</th>\n",
       "      <th>attend</th>\n",
       "      <th>day_of_week</th>\n",
       "      <th>opponent</th>\n",
       "      <th>temp</th>\n",
       "      <th>skies</th>\n",
       "      <th>day_night</th>\n",
       "      <th>cap</th>\n",
       "      <th>shirt</th>\n",
       "      <th>fireworks</th>\n",
       "      <th>bobblehead</th>\n",
       "    </tr>\n",
       "  </thead>\n",
       "  <tbody>\n",
       "    <tr>\n",
       "      <th>0</th>\n",
       "      <td>APR</td>\n",
       "      <td>10</td>\n",
       "      <td>56000</td>\n",
       "      <td>Tuesday</td>\n",
       "      <td>Pirates</td>\n",
       "      <td>67</td>\n",
       "      <td>Clear</td>\n",
       "      <td>Day</td>\n",
       "      <td>NO</td>\n",
       "      <td>NO</td>\n",
       "      <td>NO</td>\n",
       "      <td>NO</td>\n",
       "    </tr>\n",
       "    <tr>\n",
       "      <th>1</th>\n",
       "      <td>APR</td>\n",
       "      <td>11</td>\n",
       "      <td>29729</td>\n",
       "      <td>Wednesday</td>\n",
       "      <td>Pirates</td>\n",
       "      <td>58</td>\n",
       "      <td>Cloudy</td>\n",
       "      <td>Night</td>\n",
       "      <td>NO</td>\n",
       "      <td>NO</td>\n",
       "      <td>NO</td>\n",
       "      <td>NO</td>\n",
       "    </tr>\n",
       "    <tr>\n",
       "      <th>2</th>\n",
       "      <td>APR</td>\n",
       "      <td>12</td>\n",
       "      <td>28328</td>\n",
       "      <td>Thursday</td>\n",
       "      <td>Pirates</td>\n",
       "      <td>57</td>\n",
       "      <td>Cloudy</td>\n",
       "      <td>Night</td>\n",
       "      <td>NO</td>\n",
       "      <td>NO</td>\n",
       "      <td>NO</td>\n",
       "      <td>NO</td>\n",
       "    </tr>\n",
       "    <tr>\n",
       "      <th>3</th>\n",
       "      <td>APR</td>\n",
       "      <td>13</td>\n",
       "      <td>31601</td>\n",
       "      <td>Friday</td>\n",
       "      <td>Padres</td>\n",
       "      <td>54</td>\n",
       "      <td>Cloudy</td>\n",
       "      <td>Night</td>\n",
       "      <td>NO</td>\n",
       "      <td>NO</td>\n",
       "      <td>YES</td>\n",
       "      <td>NO</td>\n",
       "    </tr>\n",
       "    <tr>\n",
       "      <th>4</th>\n",
       "      <td>APR</td>\n",
       "      <td>14</td>\n",
       "      <td>46549</td>\n",
       "      <td>Saturday</td>\n",
       "      <td>Padres</td>\n",
       "      <td>57</td>\n",
       "      <td>Cloudy</td>\n",
       "      <td>Night</td>\n",
       "      <td>NO</td>\n",
       "      <td>NO</td>\n",
       "      <td>NO</td>\n",
       "      <td>NO</td>\n",
       "    </tr>\n",
       "  </tbody>\n",
       "</table>\n",
       "</div>"
      ],
      "text/plain": [
       "  month  day  attend day_of_week opponent  temp   skies day_night cap shirt  \\\n",
       "0   APR   10   56000     Tuesday  Pirates    67  Clear        Day  NO    NO   \n",
       "1   APR   11   29729   Wednesday  Pirates    58  Cloudy     Night  NO    NO   \n",
       "2   APR   12   28328    Thursday  Pirates    57  Cloudy     Night  NO    NO   \n",
       "3   APR   13   31601      Friday   Padres    54  Cloudy     Night  NO    NO   \n",
       "4   APR   14   46549    Saturday   Padres    57  Cloudy     Night  NO    NO   \n",
       "\n",
       "  fireworks bobblehead  \n",
       "0        NO         NO  \n",
       "1        NO         NO  \n",
       "2        NO         NO  \n",
       "3       YES         NO  \n",
       "4        NO         NO  "
      ]
     },
     "execution_count": 2,
     "metadata": {},
     "output_type": "execute_result"
    }
   ],
   "source": [
    "df = pd.read_csv('dodgers-2022.csv')\n",
    "df.head()"
   ]
  },
  {
   "cell_type": "code",
   "execution_count": 3,
   "id": "20b53219",
   "metadata": {},
   "outputs": [
    {
     "name": "stdout",
     "output_type": "stream",
     "text": [
      "    month    day  attend  day_of_week  opponent   temp  skies  day_night  \\\n",
      "0   False  False   False        False     False  False  False      False   \n",
      "1   False  False   False        False     False  False  False      False   \n",
      "2   False  False   False        False     False  False  False      False   \n",
      "3   False  False   False        False     False  False  False      False   \n",
      "4   False  False   False        False     False  False  False      False   \n",
      "..    ...    ...     ...          ...       ...    ...    ...        ...   \n",
      "76  False  False   False        False     False  False  False      False   \n",
      "77  False  False   False        False     False  False  False      False   \n",
      "78  False  False   False        False     False  False  False      False   \n",
      "79  False  False   False        False     False  False  False      False   \n",
      "80  False  False   False        False     False  False  False      False   \n",
      "\n",
      "      cap  shirt  fireworks  bobblehead  \n",
      "0   False  False      False       False  \n",
      "1   False  False      False       False  \n",
      "2   False  False      False       False  \n",
      "3   False  False      False       False  \n",
      "4   False  False      False       False  \n",
      "..    ...    ...        ...         ...  \n",
      "76  False  False      False       False  \n",
      "77  False  False      False       False  \n",
      "78  False  False      False       False  \n",
      "79  False  False      False       False  \n",
      "80  False  False      False       False  \n",
      "\n",
      "[81 rows x 12 columns]\n"
     ]
    }
   ],
   "source": [
    "# checking for missing values\n",
    "\n",
    "nan_df = df.isna()\n",
    "print(nan_df)"
   ]
  },
  {
   "cell_type": "code",
   "execution_count": 4,
   "id": "b4c42fec",
   "metadata": {},
   "outputs": [
    {
     "data": {
      "text/plain": [
       "False"
      ]
     },
     "execution_count": 4,
     "metadata": {},
     "output_type": "execute_result"
    }
   ],
   "source": [
    "# double checking for missing values\n",
    "\n",
    "df.isnull().values.any()"
   ]
  },
  {
   "cell_type": "code",
   "execution_count": 5,
   "id": "5123ddcd",
   "metadata": {},
   "outputs": [],
   "source": [
    "# grouping data by day of the week\n",
    "\n",
    "grouped = df.groupby('day_of_week')"
   ]
  },
  {
   "cell_type": "code",
   "execution_count": 7,
   "id": "0f6a4a28",
   "metadata": {},
   "outputs": [
    {
     "name": "stdout",
     "output_type": "stream",
     "text": [
      "day_of_week\n",
      "Friday       40116.923077\n",
      "Monday       34965.666667\n",
      "Saturday     43072.923077\n",
      "Sunday       42268.846154\n",
      "Thursday     40407.400000\n",
      "Tuesday      47741.230769\n",
      "Wednesday    37585.166667\n",
      "Name: attend, dtype: float64\n"
     ]
    }
   ],
   "source": [
    "# finding the average attendance of each day\n",
    "\n",
    "average_attendance = grouped['attend'].mean()\n",
    "print(average_attendance)"
   ]
  },
  {
   "cell_type": "code",
   "execution_count": 8,
   "id": "950df7fb",
   "metadata": {},
   "outputs": [],
   "source": [
    "# grouping data by opponent\n",
    "\n",
    "grouped1 = df.groupby('opponent')"
   ]
  },
  {
   "cell_type": "code",
   "execution_count": 10,
   "id": "c6e0c6cd",
   "metadata": {},
   "outputs": [
    {
     "name": "stdout",
     "output_type": "stream",
     "text": [
      "opponent\n",
      "Angels       49777.333333\n",
      "Astros       35383.333333\n",
      "Braves       32245.000000\n",
      "Brewers      35358.750000\n",
      "Cardinals    40853.285714\n",
      "Cubs         44206.666667\n",
      "Giants       39296.333333\n",
      "Marlins      40665.333333\n",
      "Mets         49586.250000\n",
      "Nationals    49267.333333\n",
      "Padres       42092.222222\n",
      "Phillies     41897.000000\n",
      "Pirates      38019.000000\n",
      "Reds         40649.000000\n",
      "Rockies      39631.222222\n",
      "Snakes       39315.444444\n",
      "White Sox    46382.000000\n",
      "Name: attend, dtype: float64\n"
     ]
    }
   ],
   "source": [
    "# finding average attendance for each opponent\n",
    "\n",
    "average_attendance1 = grouped1['attend'].mean()\n",
    "print(average_attendance1)"
   ]
  },
  {
   "cell_type": "code",
   "execution_count": 12,
   "id": "4611445b",
   "metadata": {},
   "outputs": [
    {
     "data": {
      "text/plain": [
       "day_of_week\n",
       "Tuesday      47741.230769\n",
       "Saturday     43072.923077\n",
       "Sunday       42268.846154\n",
       "Thursday     40407.400000\n",
       "Friday       40116.923077\n",
       "Wednesday    37585.166667\n",
       "Monday       34965.666667\n",
       "Name: attend, dtype: float64"
      ]
     },
     "execution_count": 12,
     "metadata": {},
     "output_type": "execute_result"
    }
   ],
   "source": [
    "# sorting the data to make it easier to read\n",
    "# this shows us that on average, tuesdays have the highest attendance, followed by Saturdays\n",
    "\n",
    "sorted_data = average_attendance.sort_values(ascending=False)\n",
    "\n",
    "sorted_data"
   ]
  },
  {
   "cell_type": "code",
   "execution_count": 13,
   "id": "2f9d5ef5",
   "metadata": {},
   "outputs": [
    {
     "data": {
      "text/plain": [
       "opponent\n",
       "Angels       49777.333333\n",
       "Mets         49586.250000\n",
       "Nationals    49267.333333\n",
       "White Sox    46382.000000\n",
       "Cubs         44206.666667\n",
       "Padres       42092.222222\n",
       "Phillies     41897.000000\n",
       "Cardinals    40853.285714\n",
       "Marlins      40665.333333\n",
       "Reds         40649.000000\n",
       "Rockies      39631.222222\n",
       "Snakes       39315.444444\n",
       "Giants       39296.333333\n",
       "Pirates      38019.000000\n",
       "Astros       35383.333333\n",
       "Brewers      35358.750000\n",
       "Braves       32245.000000\n",
       "Name: attend, dtype: float64"
      ]
     },
     "execution_count": 13,
     "metadata": {},
     "output_type": "execute_result"
    }
   ],
   "source": [
    "# sorting the data to make it easier to read\n",
    "# this shows us that games against the Angels, Mets, and Nationals have the highest average attendance\n",
    "\n",
    "sorted_data1 = average_attendance1.sort_values(ascending=False)\n",
    "\n",
    "sorted_data1"
   ]
  },
  {
   "cell_type": "code",
   "execution_count": 14,
   "id": "9590bfec",
   "metadata": {},
   "outputs": [],
   "source": [
    "# grouping the data by clear or cloudy weather\n",
    "\n",
    "grouped2 = df.groupby('skies')"
   ]
  },
  {
   "cell_type": "code",
   "execution_count": 15,
   "id": "f528a5ac",
   "metadata": {},
   "outputs": [
    {
     "name": "stdout",
     "output_type": "stream",
     "text": [
      "skies\n",
      "Clear     41729.209677\n",
      "Cloudy    38791.315789\n",
      "Name: attend, dtype: float64\n"
     ]
    }
   ],
   "source": [
    "# finding the average attendance based on the skies\n",
    "# this shows attendance tends to be higher on clear days\n",
    "\n",
    "average_attendance2 = grouped2['attend'].mean()\n",
    "print(average_attendance2)"
   ]
  },
  {
   "cell_type": "code",
   "execution_count": 16,
   "id": "07dccc8a",
   "metadata": {},
   "outputs": [],
   "source": [
    "# grouping the data by whether its day or night\n",
    "\n",
    "grouped3 = df.groupby('day_night')"
   ]
  },
  {
   "cell_type": "code",
   "execution_count": 17,
   "id": "3a09f92e",
   "metadata": {},
   "outputs": [
    {
     "name": "stdout",
     "output_type": "stream",
     "text": [
      "day_night\n",
      "Day      41793.266667\n",
      "Night    40868.893939\n",
      "Name: attend, dtype: float64\n"
     ]
    }
   ],
   "source": [
    "# finding the average attendance based on whether its day or night\n",
    "# this shows a slight higher average on games during the day\n",
    "\n",
    "average_attendance3 = grouped3['attend'].mean()\n",
    "print(average_attendance3)"
   ]
  },
  {
   "cell_type": "code",
   "execution_count": 18,
   "id": "16a161b4",
   "metadata": {},
   "outputs": [],
   "source": [
    "# grouping the data by whether theres fireworks or not\n",
    "\n",
    "grouped4 = df.groupby('fireworks')"
   ]
  },
  {
   "cell_type": "code",
   "execution_count": 19,
   "id": "9f495512",
   "metadata": {},
   "outputs": [
    {
     "name": "stdout",
     "output_type": "stream",
     "text": [
      "fireworks\n",
      "NO     41032.179104\n",
      "YES    41077.857143\n",
      "Name: attend, dtype: float64\n"
     ]
    }
   ],
   "source": [
    "# finding the average attendance based on whther theres fireworks\n",
    "# this shows essentially no difference\n",
    "\n",
    "average_attendance4 = grouped4['attend'].mean()\n",
    "print(average_attendance4)"
   ]
  },
  {
   "cell_type": "code",
   "execution_count": 20,
   "id": "d6f569d4",
   "metadata": {},
   "outputs": [],
   "source": [
    "# grouping the data by bobblehead\n",
    "\n",
    "grouped5 = df.groupby('bobblehead')"
   ]
  },
  {
   "cell_type": "code",
   "execution_count": 21,
   "id": "622c3ba2",
   "metadata": {},
   "outputs": [
    {
     "name": "stdout",
     "output_type": "stream",
     "text": [
      "bobblehead\n",
      "NO     39137.928571\n",
      "YES    53144.636364\n",
      "Name: attend, dtype: float64\n"
     ]
    }
   ],
   "source": [
    "# finding the average attendance based on whether there is bobblehead or not\n",
    "# this shows a large increase in average attendance if bobblehead is there\n",
    "\n",
    "average_attendance5 = grouped5['attend'].mean()\n",
    "print(average_attendance5)"
   ]
  },
  {
   "cell_type": "code",
   "execution_count": 22,
   "id": "4fd847a4",
   "metadata": {},
   "outputs": [
    {
     "data": {
      "text/html": [
       "<div>\n",
       "<style scoped>\n",
       "    .dataframe tbody tr th:only-of-type {\n",
       "        vertical-align: middle;\n",
       "    }\n",
       "\n",
       "    .dataframe tbody tr th {\n",
       "        vertical-align: top;\n",
       "    }\n",
       "\n",
       "    .dataframe thead th {\n",
       "        text-align: right;\n",
       "    }\n",
       "</style>\n",
       "<table border=\"1\" class=\"dataframe\">\n",
       "  <thead>\n",
       "    <tr style=\"text-align: right;\">\n",
       "      <th></th>\n",
       "      <th>month</th>\n",
       "      <th>day</th>\n",
       "      <th>attend</th>\n",
       "      <th>day_of_week</th>\n",
       "      <th>opponent</th>\n",
       "      <th>temp</th>\n",
       "      <th>skies</th>\n",
       "      <th>day_night</th>\n",
       "      <th>cap</th>\n",
       "      <th>shirt</th>\n",
       "      <th>fireworks</th>\n",
       "      <th>bobblehead</th>\n",
       "    </tr>\n",
       "  </thead>\n",
       "  <tbody>\n",
       "    <tr>\n",
       "      <th>0</th>\n",
       "      <td>APR</td>\n",
       "      <td>10</td>\n",
       "      <td>56000</td>\n",
       "      <td>Tuesday</td>\n",
       "      <td>Pirates</td>\n",
       "      <td>67</td>\n",
       "      <td>Clear</td>\n",
       "      <td>Day</td>\n",
       "      <td>NO</td>\n",
       "      <td>NO</td>\n",
       "      <td>NO</td>\n",
       "      <td>NO</td>\n",
       "    </tr>\n",
       "    <tr>\n",
       "      <th>59</th>\n",
       "      <td>AUG</td>\n",
       "      <td>21</td>\n",
       "      <td>56000</td>\n",
       "      <td>Tuesday</td>\n",
       "      <td>Giants</td>\n",
       "      <td>75</td>\n",
       "      <td>Clear</td>\n",
       "      <td>Night</td>\n",
       "      <td>NO</td>\n",
       "      <td>NO</td>\n",
       "      <td>NO</td>\n",
       "      <td>YES</td>\n",
       "    </tr>\n",
       "    <tr>\n",
       "      <th>39</th>\n",
       "      <td>JUL</td>\n",
       "      <td>1</td>\n",
       "      <td>55359</td>\n",
       "      <td>Sunday</td>\n",
       "      <td>Mets</td>\n",
       "      <td>75</td>\n",
       "      <td>Clear</td>\n",
       "      <td>Night</td>\n",
       "      <td>NO</td>\n",
       "      <td>NO</td>\n",
       "      <td>NO</td>\n",
       "      <td>YES</td>\n",
       "    </tr>\n",
       "    <tr>\n",
       "      <th>31</th>\n",
       "      <td>JUN</td>\n",
       "      <td>12</td>\n",
       "      <td>55279</td>\n",
       "      <td>Tuesday</td>\n",
       "      <td>Angels</td>\n",
       "      <td>66</td>\n",
       "      <td>Cloudy</td>\n",
       "      <td>Night</td>\n",
       "      <td>NO</td>\n",
       "      <td>NO</td>\n",
       "      <td>NO</td>\n",
       "      <td>YES</td>\n",
       "    </tr>\n",
       "    <tr>\n",
       "      <th>56</th>\n",
       "      <td>AUG</td>\n",
       "      <td>7</td>\n",
       "      <td>55024</td>\n",
       "      <td>Tuesday</td>\n",
       "      <td>Rockies</td>\n",
       "      <td>80</td>\n",
       "      <td>Clear</td>\n",
       "      <td>Night</td>\n",
       "      <td>NO</td>\n",
       "      <td>NO</td>\n",
       "      <td>NO</td>\n",
       "      <td>YES</td>\n",
       "    </tr>\n",
       "    <tr>\n",
       "      <th>...</th>\n",
       "      <td>...</td>\n",
       "      <td>...</td>\n",
       "      <td>...</td>\n",
       "      <td>...</td>\n",
       "      <td>...</td>\n",
       "      <td>...</td>\n",
       "      <td>...</td>\n",
       "      <td>...</td>\n",
       "      <td>...</td>\n",
       "      <td>...</td>\n",
       "      <td>...</td>\n",
       "      <td>...</td>\n",
       "    </tr>\n",
       "    <tr>\n",
       "      <th>29</th>\n",
       "      <td>MAY</td>\n",
       "      <td>31</td>\n",
       "      <td>26773</td>\n",
       "      <td>Thursday</td>\n",
       "      <td>Brewers</td>\n",
       "      <td>70</td>\n",
       "      <td>Clear</td>\n",
       "      <td>Night</td>\n",
       "      <td>NO</td>\n",
       "      <td>NO</td>\n",
       "      <td>NO</td>\n",
       "      <td>NO</td>\n",
       "    </tr>\n",
       "    <tr>\n",
       "      <th>6</th>\n",
       "      <td>APR</td>\n",
       "      <td>23</td>\n",
       "      <td>26376</td>\n",
       "      <td>Monday</td>\n",
       "      <td>Braves</td>\n",
       "      <td>60</td>\n",
       "      <td>Cloudy</td>\n",
       "      <td>Night</td>\n",
       "      <td>NO</td>\n",
       "      <td>NO</td>\n",
       "      <td>NO</td>\n",
       "      <td>NO</td>\n",
       "    </tr>\n",
       "    <tr>\n",
       "      <th>8</th>\n",
       "      <td>APR</td>\n",
       "      <td>25</td>\n",
       "      <td>26345</td>\n",
       "      <td>Wednesday</td>\n",
       "      <td>Braves</td>\n",
       "      <td>64</td>\n",
       "      <td>Cloudy</td>\n",
       "      <td>Night</td>\n",
       "      <td>NO</td>\n",
       "      <td>NO</td>\n",
       "      <td>NO</td>\n",
       "      <td>NO</td>\n",
       "    </tr>\n",
       "    <tr>\n",
       "      <th>28</th>\n",
       "      <td>MAY</td>\n",
       "      <td>30</td>\n",
       "      <td>25509</td>\n",
       "      <td>Wednesday</td>\n",
       "      <td>Brewers</td>\n",
       "      <td>69</td>\n",
       "      <td>Clear</td>\n",
       "      <td>Night</td>\n",
       "      <td>NO</td>\n",
       "      <td>NO</td>\n",
       "      <td>NO</td>\n",
       "      <td>NO</td>\n",
       "    </tr>\n",
       "    <tr>\n",
       "      <th>18</th>\n",
       "      <td>MAY</td>\n",
       "      <td>14</td>\n",
       "      <td>24312</td>\n",
       "      <td>Monday</td>\n",
       "      <td>Snakes</td>\n",
       "      <td>67</td>\n",
       "      <td>Clear</td>\n",
       "      <td>Night</td>\n",
       "      <td>NO</td>\n",
       "      <td>NO</td>\n",
       "      <td>NO</td>\n",
       "      <td>NO</td>\n",
       "    </tr>\n",
       "  </tbody>\n",
       "</table>\n",
       "<p>81 rows × 12 columns</p>\n",
       "</div>"
      ],
      "text/plain": [
       "   month  day  attend day_of_week opponent  temp   skies day_night cap shirt  \\\n",
       "0    APR   10   56000     Tuesday  Pirates    67  Clear        Day  NO    NO   \n",
       "59   AUG   21   56000     Tuesday   Giants    75  Clear      Night  NO    NO   \n",
       "39   JUL    1   55359      Sunday     Mets    75  Clear      Night  NO    NO   \n",
       "31   JUN   12   55279     Tuesday   Angels    66  Cloudy     Night  NO    NO   \n",
       "56   AUG    7   55024     Tuesday  Rockies    80  Clear      Night  NO    NO   \n",
       "..   ...  ...     ...         ...      ...   ...     ...       ...  ..   ...   \n",
       "29   MAY   31   26773    Thursday  Brewers    70  Clear      Night  NO    NO   \n",
       "6    APR   23   26376      Monday   Braves    60  Cloudy     Night  NO    NO   \n",
       "8    APR   25   26345   Wednesday   Braves    64  Cloudy     Night  NO    NO   \n",
       "28   MAY   30   25509   Wednesday  Brewers    69  Clear      Night  NO    NO   \n",
       "18   MAY   14   24312      Monday   Snakes    67  Clear      Night  NO    NO   \n",
       "\n",
       "   fireworks bobblehead  \n",
       "0         NO         NO  \n",
       "59        NO        YES  \n",
       "39        NO        YES  \n",
       "31        NO        YES  \n",
       "56        NO        YES  \n",
       "..       ...        ...  \n",
       "29        NO         NO  \n",
       "6         NO         NO  \n",
       "8         NO         NO  \n",
       "28        NO         NO  \n",
       "18        NO         NO  \n",
       "\n",
       "[81 rows x 12 columns]"
      ]
     },
     "execution_count": 22,
     "metadata": {},
     "output_type": "execute_result"
    }
   ],
   "source": [
    "# sorting our original data frame by attendance\n",
    "# the two highest attended games were both on Tuesdays, against the Pirates and Giants, both were clear days,\n",
    "# one was at night and the other during the day, neither had fireworks and one had bobblehead and one did not.\n",
    "\n",
    "df_sorted = df.sort_values(by='attend', ascending=False)\n",
    "df_sorted"
   ]
  },
  {
   "cell_type": "code",
   "execution_count": null,
   "id": "df3aa18c",
   "metadata": {},
   "outputs": [],
   "source": [
    "# If I were to make recommendations on how to increase attendance, I would suggest having bobblehead present as\n",
    "# often as possible, seeing as \"yes\" occupies most of the highest attended games and \"no\" for most of the lowest\n",
    "# attended games. Its impossible to control the weather so there's no point in talking about the skies. I don't\n",
    "# know much about baseball but if they could play more games against the Mets, Angels or Nationals those games \n",
    "# should pull more people. Tuesdays seem to be the most attended games by far (for some reason) so I'd say to\n",
    "# always have games on tuesdays and also the weekends. "
   ]
  }
 ],
 "metadata": {
  "kernelspec": {
   "display_name": "Python 3 (ipykernel)",
   "language": "python",
   "name": "python3"
  },
  "language_info": {
   "codemirror_mode": {
    "name": "ipython",
    "version": 3
   },
   "file_extension": ".py",
   "mimetype": "text/x-python",
   "name": "python",
   "nbconvert_exporter": "python",
   "pygments_lexer": "ipython3",
   "version": "3.9.7"
  }
 },
 "nbformat": 4,
 "nbformat_minor": 5
}
